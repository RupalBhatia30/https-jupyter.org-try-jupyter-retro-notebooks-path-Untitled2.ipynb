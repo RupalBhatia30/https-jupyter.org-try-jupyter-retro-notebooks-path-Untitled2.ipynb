{
  "metadata": {
    "language_info": {
      "codemirror_mode": {
        "name": "python",
        "version": 3
      },
      "file_extension": ".py",
      "mimetype": "text/x-python",
      "name": "python",
      "nbconvert_exporter": "python",
      "pygments_lexer": "ipython3",
      "version": "3.8"
    },
    "kernelspec": {
      "name": "python",
      "display_name": "Python (Pyodide)",
      "language": "python"
    }
  },
  "nbformat_minor": 4,
  "nbformat": 4,
  "cells": [
    {
      "cell_type": "code",
      "source": "Question 21:\n\nimport math\n\nclass Point:\n    def __init__(self, x=0, y=0):\n        self.x = x\n        self.y = y\n\nclass Segment:\n    def __init__(self, p1, p2):\n        self.p1 = p1\n        self.p2 = p2\n    \n    def length(self):\n        return math.sqrt((self.p2.x - self.p1.x) ** 2 + (self.p2.y - self.p1.y) ** 2)\n    \n    def slope(self):\n        if self.p2.x - self.p1.x == 0:\n            return None  \n        return (self.p2.y - self.p1.y) / (self.p2.x - self.p1.x)\n\n\n",
      "metadata": {},
      "execution_count": null,
      "outputs": []
    },
    {
      "cell_type": "code",
      "source": "Question 22:\n    \n    SELECT w2.id\n    FROM Weather w1\n    JOIN Weather w2 ON DATEDIFF(w2.recordDate, w1.recordDate) = 1\n    WHERE w2.temperature > w1.temperature\n",
      "metadata": {},
      "execution_count": null,
      "outputs": []
    },
    {
      "cell_type": "code",
      "source": "Question 23:\n    \n    def tough(indent, pattern):\n    if indent == 0: \n        return\n    \n    spaces = \" \" * indent\n    stars = \"*\" * pattern\n\n    print(spaces + stars)\n\n    tough(indent - 1, pattern + 2)\n    print(spaces + stars)  \n\n",
      "metadata": {},
      "execution_count": null,
      "outputs": []
    }
  ]
}